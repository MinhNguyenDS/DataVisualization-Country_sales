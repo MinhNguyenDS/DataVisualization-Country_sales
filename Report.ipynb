{
 "metadata": {
  "language_info": {
   "codemirror_mode": {
    "name": "ipython",
    "version": 3
   },
   "file_extension": ".py",
   "mimetype": "text/x-python",
   "name": "python",
   "nbconvert_exporter": "python",
   "pygments_lexer": "ipython3",
   "version": "3.8.10"
  },
  "orig_nbformat": 4,
  "kernelspec": {
   "name": "python3",
   "display_name": "Python 3.8.10 32-bit ('base': conda)"
  },
  "interpreter": {
   "hash": "d19fc14300fda0706a869bebc893a462fe6835de60e13e4bb4a5dfbcfac7abf6"
  }
 },
 "nbformat": 4,
 "nbformat_minor": 2,
 "cells": [
  {
   "cell_type": "code",
   "execution_count": 1,
   "metadata": {},
   "outputs": [],
   "source": [
    "import pandas as pd"
   ]
  },
  {
   "cell_type": "code",
   "execution_count": 2,
   "metadata": {},
   "outputs": [
    {
     "output_type": "execute_result",
     "data": {
      "text/plain": [
       "                               Region           Country        Item Type  \\\n",
       "0               Australia and Oceania             Palau  Office Supplies   \n",
       "1                              Europe            Poland        Beverages   \n",
       "2                       North America            Canada           Cereal   \n",
       "3                              Europe           Belarus           Snacks   \n",
       "4        Middle East and North Africa              Oman           Cereal   \n",
       "...                               ...               ...              ...   \n",
       "4999995  Middle East and North Africa              Iraq        Household   \n",
       "4999996                        Europe            Monaco             Meat   \n",
       "4999997         Australia and Oceania   Solomon Islands          Clothes   \n",
       "4999998         Australia and Oceania  Marshall Islands        Cosmetics   \n",
       "4999999                        Europe            Greece  Office Supplies   \n",
       "\n",
       "        Sales Channel Order Priority Order Date   Order ID   Ship Date  \\\n",
       "0              Online              H   3/6/2016  517073523   3/26/2016   \n",
       "1              Online              L  4/18/2010  380507028   5/26/2010   \n",
       "2              Online              M   1/8/2015  504055583   1/31/2015   \n",
       "3              Online              C  1/19/2014  954955518   2/27/2014   \n",
       "4             Offline              H  4/26/2019  970755660    6/2/2019   \n",
       "...               ...            ...        ...        ...         ...   \n",
       "4999995        Online              L  3/17/2014  940436398   4/23/2014   \n",
       "4999996       Offline              H  11/8/2015  407689177  11/28/2015   \n",
       "4999997        Online              C   6/1/2020  727000367   7/18/2020   \n",
       "4999998       Offline              L  2/12/2020  714043796   3/22/2020   \n",
       "4999999        Online              C  5/11/2019  604805791   6/12/2019   \n",
       "\n",
       "         Units Sold  Unit Price  Unit Cost  Total Revenue  Total Cost  \\\n",
       "0              2401      651.21     524.96     1563555.21  1260428.96   \n",
       "1              9340       47.45      31.79      443183.00   296918.60   \n",
       "2               103      205.70     117.11       21187.10    12062.33   \n",
       "3              1414      152.58      97.44      215748.12   137780.16   \n",
       "4              7027      205.70     117.11     1445453.90   822931.97   \n",
       "...             ...         ...        ...            ...         ...   \n",
       "4999995        4884      668.27     502.54     3263830.68  2454405.36   \n",
       "4999996        3142      421.89     364.69     1325578.38  1145855.98   \n",
       "4999997        4419      109.28      35.84      482908.32   158376.96   \n",
       "4999998         282      437.20     263.33      123290.40    74259.06   \n",
       "4999999        4329      651.21     524.96     2819088.09  2272551.84   \n",
       "\n",
       "         Total Profit  \n",
       "0           303126.25  \n",
       "1           146264.40  \n",
       "2             9124.77  \n",
       "3            77967.96  \n",
       "4           622521.93  \n",
       "...               ...  \n",
       "4999995     809425.32  \n",
       "4999996     179722.40  \n",
       "4999997     324531.36  \n",
       "4999998      49031.34  \n",
       "4999999     546536.25  \n",
       "\n",
       "[5000000 rows x 14 columns]"
      ],
      "text/html": "<div>\n<style scoped>\n    .dataframe tbody tr th:only-of-type {\n        vertical-align: middle;\n    }\n\n    .dataframe tbody tr th {\n        vertical-align: top;\n    }\n\n    .dataframe thead th {\n        text-align: right;\n    }\n</style>\n<table border=\"1\" class=\"dataframe\">\n  <thead>\n    <tr style=\"text-align: right;\">\n      <th></th>\n      <th>Region</th>\n      <th>Country</th>\n      <th>Item Type</th>\n      <th>Sales Channel</th>\n      <th>Order Priority</th>\n      <th>Order Date</th>\n      <th>Order ID</th>\n      <th>Ship Date</th>\n      <th>Units Sold</th>\n      <th>Unit Price</th>\n      <th>Unit Cost</th>\n      <th>Total Revenue</th>\n      <th>Total Cost</th>\n      <th>Total Profit</th>\n    </tr>\n  </thead>\n  <tbody>\n    <tr>\n      <th>0</th>\n      <td>Australia and Oceania</td>\n      <td>Palau</td>\n      <td>Office Supplies</td>\n      <td>Online</td>\n      <td>H</td>\n      <td>3/6/2016</td>\n      <td>517073523</td>\n      <td>3/26/2016</td>\n      <td>2401</td>\n      <td>651.21</td>\n      <td>524.96</td>\n      <td>1563555.21</td>\n      <td>1260428.96</td>\n      <td>303126.25</td>\n    </tr>\n    <tr>\n      <th>1</th>\n      <td>Europe</td>\n      <td>Poland</td>\n      <td>Beverages</td>\n      <td>Online</td>\n      <td>L</td>\n      <td>4/18/2010</td>\n      <td>380507028</td>\n      <td>5/26/2010</td>\n      <td>9340</td>\n      <td>47.45</td>\n      <td>31.79</td>\n      <td>443183.00</td>\n      <td>296918.60</td>\n      <td>146264.40</td>\n    </tr>\n    <tr>\n      <th>2</th>\n      <td>North America</td>\n      <td>Canada</td>\n      <td>Cereal</td>\n      <td>Online</td>\n      <td>M</td>\n      <td>1/8/2015</td>\n      <td>504055583</td>\n      <td>1/31/2015</td>\n      <td>103</td>\n      <td>205.70</td>\n      <td>117.11</td>\n      <td>21187.10</td>\n      <td>12062.33</td>\n      <td>9124.77</td>\n    </tr>\n    <tr>\n      <th>3</th>\n      <td>Europe</td>\n      <td>Belarus</td>\n      <td>Snacks</td>\n      <td>Online</td>\n      <td>C</td>\n      <td>1/19/2014</td>\n      <td>954955518</td>\n      <td>2/27/2014</td>\n      <td>1414</td>\n      <td>152.58</td>\n      <td>97.44</td>\n      <td>215748.12</td>\n      <td>137780.16</td>\n      <td>77967.96</td>\n    </tr>\n    <tr>\n      <th>4</th>\n      <td>Middle East and North Africa</td>\n      <td>Oman</td>\n      <td>Cereal</td>\n      <td>Offline</td>\n      <td>H</td>\n      <td>4/26/2019</td>\n      <td>970755660</td>\n      <td>6/2/2019</td>\n      <td>7027</td>\n      <td>205.70</td>\n      <td>117.11</td>\n      <td>1445453.90</td>\n      <td>822931.97</td>\n      <td>622521.93</td>\n    </tr>\n    <tr>\n      <th>...</th>\n      <td>...</td>\n      <td>...</td>\n      <td>...</td>\n      <td>...</td>\n      <td>...</td>\n      <td>...</td>\n      <td>...</td>\n      <td>...</td>\n      <td>...</td>\n      <td>...</td>\n      <td>...</td>\n      <td>...</td>\n      <td>...</td>\n      <td>...</td>\n    </tr>\n    <tr>\n      <th>4999995</th>\n      <td>Middle East and North Africa</td>\n      <td>Iraq</td>\n      <td>Household</td>\n      <td>Online</td>\n      <td>L</td>\n      <td>3/17/2014</td>\n      <td>940436398</td>\n      <td>4/23/2014</td>\n      <td>4884</td>\n      <td>668.27</td>\n      <td>502.54</td>\n      <td>3263830.68</td>\n      <td>2454405.36</td>\n      <td>809425.32</td>\n    </tr>\n    <tr>\n      <th>4999996</th>\n      <td>Europe</td>\n      <td>Monaco</td>\n      <td>Meat</td>\n      <td>Offline</td>\n      <td>H</td>\n      <td>11/8/2015</td>\n      <td>407689177</td>\n      <td>11/28/2015</td>\n      <td>3142</td>\n      <td>421.89</td>\n      <td>364.69</td>\n      <td>1325578.38</td>\n      <td>1145855.98</td>\n      <td>179722.40</td>\n    </tr>\n    <tr>\n      <th>4999997</th>\n      <td>Australia and Oceania</td>\n      <td>Solomon Islands</td>\n      <td>Clothes</td>\n      <td>Online</td>\n      <td>C</td>\n      <td>6/1/2020</td>\n      <td>727000367</td>\n      <td>7/18/2020</td>\n      <td>4419</td>\n      <td>109.28</td>\n      <td>35.84</td>\n      <td>482908.32</td>\n      <td>158376.96</td>\n      <td>324531.36</td>\n    </tr>\n    <tr>\n      <th>4999998</th>\n      <td>Australia and Oceania</td>\n      <td>Marshall Islands</td>\n      <td>Cosmetics</td>\n      <td>Offline</td>\n      <td>L</td>\n      <td>2/12/2020</td>\n      <td>714043796</td>\n      <td>3/22/2020</td>\n      <td>282</td>\n      <td>437.20</td>\n      <td>263.33</td>\n      <td>123290.40</td>\n      <td>74259.06</td>\n      <td>49031.34</td>\n    </tr>\n    <tr>\n      <th>4999999</th>\n      <td>Europe</td>\n      <td>Greece</td>\n      <td>Office Supplies</td>\n      <td>Online</td>\n      <td>C</td>\n      <td>5/11/2019</td>\n      <td>604805791</td>\n      <td>6/12/2019</td>\n      <td>4329</td>\n      <td>651.21</td>\n      <td>524.96</td>\n      <td>2819088.09</td>\n      <td>2272551.84</td>\n      <td>546536.25</td>\n    </tr>\n  </tbody>\n</table>\n<p>5000000 rows × 14 columns</p>\n</div>"
     },
     "metadata": {},
     "execution_count": 2
    }
   ],
   "source": [
    "file = input()\n",
    "df = pd.read_csv(file)\n",
    "df"
   ]
  },
  {
   "cell_type": "code",
   "execution_count": 13,
   "metadata": {},
   "outputs": [
    {
     "output_type": "execute_result",
     "data": {
      "text/plain": [
       "0          False\n",
       "1          False\n",
       "2          False\n",
       "3          False\n",
       "4          False\n",
       "           ...  \n",
       "4999995    False\n",
       "4999996    False\n",
       "4999997    False\n",
       "4999998    False\n",
       "4999999    False\n",
       "Name: Order Priority, Length: 5000000, dtype: bool"
      ]
     },
     "metadata": {},
     "execution_count": 13
    }
   ],
   "source": [
    "df['Order Priority'] == 'c'"
   ]
  },
  {
   "cell_type": "code",
   "execution_count": 30,
   "metadata": {},
   "outputs": [
    {
     "output_type": "execute_result",
     "data": {
      "text/plain": [
       "                     Region       Country Item Type Sales Channel  \\\n",
       "220448   Sub-Saharan Africa  South Africa    Fruits       Offline   \n",
       "3717184  Sub-Saharan Africa  South Africa    Fruits       Offline   \n",
       "\n",
       "        Order Priority Order Date   Order ID  Ship Date  Units Sold  \\\n",
       "220448               M  8/18/2013  443368995  8/19/2013        1593   \n",
       "3717184              M  8/18/2013  443368995  8/19/2013        1593   \n",
       "\n",
       "         Unit Price  Unit Cost  Total Revenue  Total Cost  Total Profit  \n",
       "220448         9.33       6.92       14862.69    11023.56       3839.13  \n",
       "3717184        9.33       6.92       14862.69    11023.56       3839.13  "
      ],
      "text/html": "<div>\n<style scoped>\n    .dataframe tbody tr th:only-of-type {\n        vertical-align: middle;\n    }\n\n    .dataframe tbody tr th {\n        vertical-align: top;\n    }\n\n    .dataframe thead th {\n        text-align: right;\n    }\n</style>\n<table border=\"1\" class=\"dataframe\">\n  <thead>\n    <tr style=\"text-align: right;\">\n      <th></th>\n      <th>Region</th>\n      <th>Country</th>\n      <th>Item Type</th>\n      <th>Sales Channel</th>\n      <th>Order Priority</th>\n      <th>Order Date</th>\n      <th>Order ID</th>\n      <th>Ship Date</th>\n      <th>Units Sold</th>\n      <th>Unit Price</th>\n      <th>Unit Cost</th>\n      <th>Total Revenue</th>\n      <th>Total Cost</th>\n      <th>Total Profit</th>\n    </tr>\n  </thead>\n  <tbody>\n    <tr>\n      <th>220448</th>\n      <td>Sub-Saharan Africa</td>\n      <td>South Africa</td>\n      <td>Fruits</td>\n      <td>Offline</td>\n      <td>M</td>\n      <td>8/18/2013</td>\n      <td>443368995</td>\n      <td>8/19/2013</td>\n      <td>1593</td>\n      <td>9.33</td>\n      <td>6.92</td>\n      <td>14862.69</td>\n      <td>11023.56</td>\n      <td>3839.13</td>\n    </tr>\n    <tr>\n      <th>3717184</th>\n      <td>Sub-Saharan Africa</td>\n      <td>South Africa</td>\n      <td>Fruits</td>\n      <td>Offline</td>\n      <td>M</td>\n      <td>8/18/2013</td>\n      <td>443368995</td>\n      <td>8/19/2013</td>\n      <td>1593</td>\n      <td>9.33</td>\n      <td>6.92</td>\n      <td>14862.69</td>\n      <td>11023.56</td>\n      <td>3839.13</td>\n    </tr>\n  </tbody>\n</table>\n</div>"
     },
     "metadata": {},
     "execution_count": 30
    }
   ],
   "source": [
    "df.loc[(df['Order ID'] == 443368995)]"
   ]
  },
  {
   "cell_type": "code",
   "execution_count": null,
   "metadata": {},
   "outputs": [],
   "source": []
  }
 ]
}